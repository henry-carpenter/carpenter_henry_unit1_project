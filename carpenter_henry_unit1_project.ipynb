{
 "cells": [
  {
   "cell_type": "markdown",
   "metadata": {},
   "source": [
    "### Unit 1 project\n",
    "By: Henry Carpenter\n",
    "\n",
    "Instructor: Greg Gandenberger\n",
    "\n",
    "Date: July 9, 2019"
   ]
  },
  {
   "cell_type": "markdown",
   "metadata": {},
   "source": [
    "### Challenge 1: Largest Palindrome\n",
    "A palindromic number reads the same both ways. For example, 1234321 is a palindrome. The largest palindrome made from the product of two two-digit numbers is 9009 = 91 × 99. Find the largest palindrome made from the product of two three-digit numbers.\n",
    "\n",
    "Suggested algorithm:\n",
    "\n",
    "- Initialize a variable `result` to 0.\n",
    "- For each number A 100 through 999:\n",
    "    - For each number B 100 through 999:\n",
    "        - Multiply A and B.\n",
    "        - Turn that product into a string (use `str` as a function).\n",
    "        - Reverse the string (use `my_string[::-1]`).\n",
    "        - If the string and its reverse are the same and the product is\n",
    "        greater than `result`,  set `result` to that new value.\n",
    "        "
   ]
  },
  {
   "cell_type": "code",
   "execution_count": 1,
   "metadata": {},
   "outputs": [],
   "source": [
    "# 'lower' is lower range to consider, 'upper' is upper range to consider\n",
    "def largest_palindrome(lower, upper):\n",
    "\n",
    "# Largest palindrome is initially 0\n",
    "    result = 0\n",
    "    for first_num in range(lower, upper + 1):\n",
    "        for second_num in range(lower, upper + 1):\n",
    "\n",
    "            # If the number is \"equal\" to itself backwords and the number is larger than the current largest palindrome, it is the new largest palindrome\n",
    "            if (str(first_num * second_num) == str(first_num * second_num)[::-1]) and first_num * second_num > result:\n",
    "                result = first_num * second_num          \n",
    "    return result"
   ]
  },
  {
   "cell_type": "code",
   "execution_count": 2,
   "metadata": {},
   "outputs": [
    {
     "data": {
      "text/plain": [
       "906609"
      ]
     },
     "execution_count": 2,
     "metadata": {},
     "output_type": "execute_result"
    }
   ],
   "source": [
    "largest_palindrome(100, 999)"
   ]
  },
  {
   "cell_type": "markdown",
   "metadata": {},
   "source": [
    "### Challenge 2: Summation of Primes\n",
    "The sum of the primes below 10 is 2 + 3 + 5 + 7 = 17. Find the sum of all the primes below 2,000.\n",
    "\n",
    "Suggested algorithm:\n",
    "\n",
    "```\n",
    "- Initialize an empty list of primes.\n",
    "\n",
    "- For every number A from 2 to 2,000:\n",
    "    - Set a variable `is_prime` to true.\n",
    "    - For every number B in our list of primes:\n",
    "        - If A divided by B gives no remainder, set `is_prime` to false.\n",
    "        - Optional: Use the command `break` to end the loop over primes at this point.\n",
    "    - If `is_prime` is still true, append A to our list of primes.\n",
    "    \n",
    "- Add up the primes.\n",
    "```"
   ]
  },
  {
   "cell_type": "code",
   "execution_count": 3,
   "metadata": {},
   "outputs": [],
   "source": [
    "# 'upper' is the upper range of the numbers you want to consider\n",
    "def sum_of_primes(upper):\n",
    "    \n",
    "    # Establishes that 2 is a prime to begin with\n",
    "    list_of_primes = [2]\n",
    "    \n",
    "    for first_num in range(3, upper + 1):\n",
    "        \n",
    "        # Start assuming the number is prime\n",
    "        is_prime = True\n",
    "        \n",
    "        for second_num in list_of_primes:\n",
    "            \n",
    "            # If the first number is divisble by a number in our list of primes, it is not itself prime\n",
    "            if first_num % second_num == 0:\n",
    "                is_prime = False\n",
    "                break\n",
    "        \n",
    "        # Otherwise, the first number is itself prime\n",
    "        if is_prime:\n",
    "            list_of_primes.append(first_num)\n",
    "    \n",
    "    # Returns the sum of the primes from 2 - 'upper'\n",
    "    return sum(list_of_primes)"
   ]
  },
  {
   "cell_type": "code",
   "execution_count": 4,
   "metadata": {},
   "outputs": [
    {
     "data": {
      "text/plain": [
       "277050"
      ]
     },
     "execution_count": 4,
     "metadata": {},
     "output_type": "execute_result"
    }
   ],
   "source": [
    "sum_of_primes(2000)"
   ]
  },
  {
   "cell_type": "markdown",
   "metadata": {},
   "source": [
    "### Challenge 3: Multiples of 3 and 5\n",
    "If we list all of the natural numbers below 10 that are multiples of 3 or 5, we get 3, 5, 6, and 9. The sum of these multiples is 23. Find the sum of all the multiples of 3 and 5 below 1,000."
   ]
  },
  {
   "cell_type": "code",
   "execution_count": 5,
   "metadata": {},
   "outputs": [],
   "source": [
    "# 'first' is first multiplicant, 'second' is the second, and 'upper' is the upper limit of the range to consider\n",
    "def sum_of_multiples(first, second, upper):\n",
    "    \n",
    "    # Begin with an empty list of products\n",
    "    list_of_products = []\n",
    "    \n",
    "    for eval_num in range(1, upper + 1):\n",
    "        \n",
    "        # If the current number is divisible by either 'first' or 'second', append it to the list\n",
    "        if not all([eval_num % multiple for multiple in [first, second]]):\n",
    "            list_of_products.append(eval_num)\n",
    "            \n",
    "    return sum(list_of_products)"
   ]
  },
  {
   "cell_type": "code",
   "execution_count": 6,
   "metadata": {},
   "outputs": [
    {
     "data": {
      "text/plain": [
       "234168"
      ]
     },
     "execution_count": 6,
     "metadata": {},
     "output_type": "execute_result"
    }
   ],
   "source": [
    "sum_of_multiples(3, 5, 1000)"
   ]
  },
  {
   "cell_type": "markdown",
   "metadata": {},
   "source": [
    "### Challenge 4: String Compressor\n",
    "Write a function to perform basic string compression using the counts of repeated characters. (This is called run-length encoding.) For example, the string \"aabcccccaaa\" would become a2b1c5a3. If the “compressed” string would not become smaller than the original string, your method should return the original string. You can assume the string has only uppercase and lowercase letters (a–z). Specify whether your solution is case sensitive or case insensitive and what you would need to change to make it the other.\n",
    "\n",
    "Suggested algorithm:\n",
    "\n",
    "```\n",
    "- Initialize an empty string to hold the compressed version of the input string\n",
    "- Initialize an empty string to hold the character we are currently tallying up\n",
    "- Initialize a counter variable to 0\n",
    "\n",
    "- For each letter in the input string:\n",
    "    - If that letter matches the letter we are counting, increment the counter by 1\n",
    "    - Otherwise:\n",
    "        - If the counter value is greater than 0, add the letter we have been counting\n",
    "        and its count to our compressed string\n",
    "        - Update the letter we are counting\n",
    "        - Set the counter to 1\n",
    "\n",
    "- Append the last letter we were counting and its count to our compressed string\n",
    "```\n",
    "\n",
    "**Suggestion:** Test your function on a few sample inputs. Try to come up with \"edge cases\" that might make it fail (e.g. empty strings, strings with all the same character, strings containing non-alphabetic characters, etc.)"
   ]
  },
  {
   "cell_type": "code",
   "execution_count": 7,
   "metadata": {},
   "outputs": [],
   "source": [
    "def string_compression(big_string):\n",
    "    # Block executes as long as there is no IndexError, i.e., the input string is not empty\n",
    "    try:\n",
    "        \n",
    "        # Convert string to lowercase because why not\n",
    "        big_string = big_string.lower()\n",
    "        \n",
    "        # If any non-letter characters, return an error indicating as such\n",
    "        if any((char not in [chr(num) for num in range(97, 123)] for char in list(big_string))):\n",
    "            return 'Error: invalid character in string. Only letters allowed in string'\n",
    "        \n",
    "        # If the code executes through the else, the string is only letters and thus will be processed correctly\n",
    "        else:\n",
    "            compressed_string = ''\n",
    "            prev_char = big_string[0]\n",
    "            char_count = 0\n",
    "            \n",
    "            # Evaluate through each character in the string\n",
    "            for current_char in big_string:\n",
    "                \n",
    "                # If the character is the same as the previous, you're in a continuous stretch of one letter, increment counter\n",
    "                if current_char == prev_char:\n",
    "                    char_count += 1\n",
    "                    \n",
    "                # If the character is not the same as the previous, you're in a new stretch of letters, so you should add the compression string to the main string\n",
    "                else:\n",
    "                    compressed_string += prev_char + str(char_count)\n",
    "                    char_count = 1\n",
    "                    prev_char = current_char\n",
    "            \n",
    "            # The very last character in the string won't be added in the above code, so it's handled here\n",
    "            compressed_string += prev_char + str(char_count)\n",
    "            return(is_compressed(big_string, compressed_string))\n",
    "\n",
    "    \n",
    "    # Return error if the string is empty\n",
    "    except IndexError:\n",
    "        return 'Error: empty string is invalid input'\n",
    "    \n",
    "    \n",
    "def is_compressed(big_string, compressed_string):\n",
    "    \n",
    "    # If the compressed string is shorter than the original, return it\n",
    "    if len(compressed_string) < len(big_string):\n",
    "        return 'Compressed string: ' + compressed_string\n",
    "    \n",
    "    # If the original string is not longer than the compressed, return it\n",
    "    else:\n",
    "        return 'Compressed string not shorter than original. Original: ' + big_string"
   ]
  },
  {
   "cell_type": "code",
   "execution_count": 8,
   "metadata": {},
   "outputs": [
    {
     "data": {
      "text/plain": [
       "'Compressed string: a2b1c5a3'"
      ]
     },
     "execution_count": 8,
     "metadata": {},
     "output_type": "execute_result"
    }
   ],
   "source": [
    "string_compression('aabcccccaaa')"
   ]
  },
  {
   "cell_type": "markdown",
   "metadata": {},
   "source": [
    "### Challenge 5: FizzBuzz\n",
    "Write a program that prints all of the numbers from 1 to 100. For multiples of 3, instead of the number, print \"Fizz;\" for multiples of 5, print \"Buzz.\" For numbers that are multiples of both 3 and 5, print \"FizzBuzz.\""
   ]
  },
  {
   "cell_type": "code",
   "execution_count": 9,
   "metadata": {},
   "outputs": [],
   "source": [
    "def FizzBuzz():\n",
    "    \n",
    "    for number in range(1, 101):\n",
    "        \n",
    "        # If a multiple of 3 but not 5, print 'Fizz'\n",
    "        if (number % 3 == 0) and (number % 5 != 0):\n",
    "            print('Fizz')\n",
    "            \n",
    "        # If a multiple of 5 but not 3, print 'Buzz'\n",
    "        elif (number % 5 == 0) and (number % 3 != 0):\n",
    "            print('Buzz')\n",
    "            \n",
    "        # If a multiple of 3 and  5, print 'FizzBuzz'\n",
    "        elif (number % 3 == 0) and (number % 5 == 0):\n",
    "            print('FizzBuzz')\n",
    "            \n",
    "        # If a multiple of neither 3 nor 5, print the number\n",
    "        else:\n",
    "            print(number)\n",
    "    return"
   ]
  },
  {
   "cell_type": "code",
   "execution_count": 10,
   "metadata": {},
   "outputs": [
    {
     "name": "stdout",
     "output_type": "stream",
     "text": [
      "1\n",
      "2\n",
      "Fizz\n",
      "4\n",
      "Buzz\n",
      "Fizz\n",
      "7\n",
      "8\n",
      "Fizz\n",
      "Buzz\n",
      "11\n",
      "Fizz\n",
      "13\n",
      "14\n",
      "FizzBuzz\n",
      "16\n",
      "17\n",
      "Fizz\n",
      "19\n",
      "Buzz\n",
      "Fizz\n",
      "22\n",
      "23\n",
      "Fizz\n",
      "Buzz\n",
      "26\n",
      "Fizz\n",
      "28\n",
      "29\n",
      "FizzBuzz\n",
      "31\n",
      "32\n",
      "Fizz\n",
      "34\n",
      "Buzz\n",
      "Fizz\n",
      "37\n",
      "38\n",
      "Fizz\n",
      "Buzz\n",
      "41\n",
      "Fizz\n",
      "43\n",
      "44\n",
      "FizzBuzz\n",
      "46\n",
      "47\n",
      "Fizz\n",
      "49\n",
      "Buzz\n",
      "Fizz\n",
      "52\n",
      "53\n",
      "Fizz\n",
      "Buzz\n",
      "56\n",
      "Fizz\n",
      "58\n",
      "59\n",
      "FizzBuzz\n",
      "61\n",
      "62\n",
      "Fizz\n",
      "64\n",
      "Buzz\n",
      "Fizz\n",
      "67\n",
      "68\n",
      "Fizz\n",
      "Buzz\n",
      "71\n",
      "Fizz\n",
      "73\n",
      "74\n",
      "FizzBuzz\n",
      "76\n",
      "77\n",
      "Fizz\n",
      "79\n",
      "Buzz\n",
      "Fizz\n",
      "82\n",
      "83\n",
      "Fizz\n",
      "Buzz\n",
      "86\n",
      "Fizz\n",
      "88\n",
      "89\n",
      "FizzBuzz\n",
      "91\n",
      "92\n",
      "Fizz\n",
      "94\n",
      "Buzz\n",
      "Fizz\n",
      "97\n",
      "98\n",
      "Fizz\n",
      "Buzz\n"
     ]
    }
   ],
   "source": [
    "FizzBuzz()"
   ]
  }
 ],
 "metadata": {
  "kernelspec": {
   "display_name": "Python 3",
   "language": "python",
   "name": "python3"
  },
  "language_info": {
   "codemirror_mode": {
    "name": "ipython",
    "version": 3
   },
   "file_extension": ".py",
   "mimetype": "text/x-python",
   "name": "python",
   "nbconvert_exporter": "python",
   "pygments_lexer": "ipython3",
   "version": "3.7.1"
  }
 },
 "nbformat": 4,
 "nbformat_minor": 2
}
